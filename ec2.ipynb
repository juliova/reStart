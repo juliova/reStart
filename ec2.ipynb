{
 "cells": [
  {
   "cell_type": "markdown",
   "id": "persistent-indonesia",
   "metadata": {},
   "source": [
    "<h1>Road to Automation!</h1>"
   ]
  },
  {
   "cell_type": "code",
   "execution_count": null,
   "id": "found-operator",
   "metadata": {},
   "outputs": [],
   "source": [
    "pip --version"
   ]
  },
  {
   "cell_type": "code",
   "execution_count": null,
   "id": "blocked-california",
   "metadata": {},
   "outputs": [],
   "source": [
    "pip install awscli --upgrade --user"
   ]
  },
  {
   "cell_type": "code",
   "execution_count": null,
   "id": "capital-tract",
   "metadata": {},
   "outputs": [],
   "source": [
    "%env AWS_ACCESS_KEY_ID=\n",
    "%env AWS_SECRET_ACCESS_KEY=\n",
    "%env AWS_DEFAULT_REGION=us-west-2\n",
    "%env AWS_DEFAULT_OUTPUT=json"
   ]
  },
  {
   "cell_type": "code",
   "execution_count": null,
   "id": "massive-present",
   "metadata": {},
   "outputs": [],
   "source": [
    "!aws iam list-policies"
   ]
  },
  {
   "cell_type": "code",
   "execution_count": null,
   "id": "breeding-answer",
   "metadata": {},
   "outputs": [],
   "source": [
    "#List all VPCs\n",
    "!aws ec2 describe-vpcs"
   ]
  },
  {
   "cell_type": "code",
   "execution_count": null,
   "id": "sensitive-science",
   "metadata": {},
   "outputs": [],
   "source": [
    "#List only VPC named (tag) \"Lab VPC\"\n",
    "!aws ec2 describe-vpcs --filters Name=tag:Name,Values=\"Lab VPC\" --query \"Vpcs[*].VpcId\""
   ]
  },
  {
   "cell_type": "code",
   "execution_count": null,
   "id": "infrared-trail",
   "metadata": {},
   "outputs": [],
   "source": [
    "#Save VPC ID into a file (for next steps) an check (cat) for valid content (Vpc ID)\n",
    "!aws ec2 describe-vpcs --filters Name=tag:Name,Values=\"Lab VPC\" --query \"Vpcs[*].VpcId\" --output text > VpcID\n",
    "!cat VpcID"
   ]
  },
  {
   "cell_type": "code",
   "execution_count": null,
   "id": "incorporated-rider",
   "metadata": {},
   "outputs": [],
   "source": [
    "#List security groups\n",
    "!aws ec2 describe-security-groups --filters \"Name=vpc-id,Values=$(cat VpcID)\" --query \"SecurityGroups[*].{Name:GroupName,ID:GroupId}\""
   ]
  },
  {
   "cell_type": "code",
   "execution_count": null,
   "id": "printable-closure",
   "metadata": {},
   "outputs": [],
   "source": [
    "#Taken from above excersise\n",
    "%env ID_SECURITY_GROUP=sg-0f6dc91779f24d5c3\n",
    "#Show Security Group configuration\n",
    "!aws ec2 describe-security-groups --group-ids $ID_SECURITY_GROUP"
   ]
  },
  {
   "cell_type": "code",
   "execution_count": null,
   "id": "corresponding-merchant",
   "metadata": {},
   "outputs": [],
   "source": [
    "#Add FW rule for port 80\n",
    "!aws ec2 authorize-security-group-ingress --group-id $ID_SECURITY_GROUP --protocol tcp --port 80 --cidr 0.0.0.0/0"
   ]
  },
  {
   "cell_type": "code",
   "execution_count": null,
   "id": "fiscal-hopkins",
   "metadata": {},
   "outputs": [],
   "source": [
    "#Show Security Group configuration (again...to check rule above added)\n",
    "!aws ec2 describe-security-groups --group-ids $ID_SECURITY_GROUP"
   ]
  },
  {
   "cell_type": "code",
   "execution_count": null,
   "id": "cubic-architecture",
   "metadata": {},
   "outputs": [],
   "source": [
    "#Show VPC Subnets...\n",
    "!aws ec2 describe-subnets --filters \"Name=vpc-id,Values=$(cat VpcID)\""
   ]
  },
  {
   "cell_type": "code",
   "execution_count": null,
   "id": "nervous-exploration",
   "metadata": {},
   "outputs": [],
   "source": [
    "#Save Subnet ID into a file (for next steps) and check (cat) for valid content (Vpc ID)\n",
    "!aws ec2 describe-subnets --filters Name=tag:Name,Values=\"Public Subnet 1\"  --query \"Subnets[*].SubnetId\" --output text >SubnetID\n",
    "!cat SubnetID"
   ]
  },
  {
   "cell_type": "code",
   "execution_count": null,
   "id": "greenhouse-penetration",
   "metadata": {},
   "outputs": [],
   "source": [
    "!aws ec2 create-key-pair --key-name my-key-pair --query \"KeyMaterial\" --output text > my-key-pair.pem\n",
    "!chmod 400 my-key-pair.pem"
   ]
  },
  {
   "cell_type": "markdown",
   "id": "forbidden-excellence",
   "metadata": {},
   "source": [
    "<b>EBS mapping file creation</b>"
   ]
  },
  {
   "cell_type": "code",
   "execution_count": null,
   "id": "worse-bundle",
   "metadata": {},
   "outputs": [],
   "source": [
    "%%writefile mapping.json\n",
    "[\n",
    "    {\n",
    "        \"DeviceName\": \"/dev/sda1\",\n",
    "        \"Ebs\": {\n",
    "            \"VolumeSize\": 8\n",
    "        }\n",
    "    }\n",
    "]"
   ]
  },
  {
   "cell_type": "markdown",
   "id": "thick-remove",
   "metadata": {},
   "source": [
    "<b>User data file creation</b>"
   ]
  },
  {
   "cell_type": "code",
   "execution_count": null,
   "id": "unexpected-offense",
   "metadata": {},
   "outputs": [],
   "source": [
    "%%writefile my_script.txt\n",
    "#!/bin/bash\n",
    "yum -y install httpd\n",
    "systemctl enable httpd\n",
    "systemctl start httpd\n",
    "echo '<html><h1>Hello From Your Web Server!</h1></html>' > /var/www/html/index.html"
   ]
  },
  {
   "cell_type": "code",
   "execution_count": null,
   "id": "given-thumbnail",
   "metadata": {},
   "outputs": [],
   "source": [
    "#EC2 Instance creation\n",
    "!aws ec2 run-instances --image-id ami-0dc8f589abe99f538 --instance-type t3.micro --key-name my-key-pair --security-group-ids $ID_SECURITY_GROUP --associate-public-ip-address --block-device-mappings file://mapping.json --user-data file://my_script.txt --subnet-id $(cat SubnetID) > instance.json"
   ]
  },
  {
   "cell_type": "code",
   "execution_count": null,
   "id": "broadband-soldier",
   "metadata": {},
   "outputs": [],
   "source": [
    "!cat instance.json"
   ]
  },
  {
   "cell_type": "code",
   "execution_count": null,
   "id": "missing-tanzania",
   "metadata": {},
   "outputs": [],
   "source": [
    "#get Instance ID\n",
    "!cat instance.json | python3 -c \"import sys, json; print(json.load(sys.stdin)['Instances'][0]['InstanceId'])\" > instanceId\n",
    "!cat instanceId "
   ]
  },
  {
   "cell_type": "code",
   "execution_count": null,
   "id": "hourly-calibration",
   "metadata": {},
   "outputs": [],
   "source": [
    "!aws ec2 describe-instance-status --instance-id $(cat instanceId) | python3 -c \"import sys, json; print(json.load(sys.stdin)['InstanceStatuses'][0]['InstanceState']['Name'])\""
   ]
  },
  {
   "cell_type": "code",
   "execution_count": null,
   "id": "light-clearing",
   "metadata": {},
   "outputs": [],
   "source": [
    "!aws ec2 describe-instances --instance-ids $(cat instanceId) --query 'Reservations[*].Instances[*].PublicIpAddress' --output text > instancePublicIp\n",
    "!cat instancePublicIp"
   ]
  },
  {
   "cell_type": "code",
   "execution_count": null,
   "id": "liquid-stage",
   "metadata": {},
   "outputs": [],
   "source": [
    "!echo \"http://$(cat instancePublicIp)\""
   ]
  },
  {
   "cell_type": "code",
   "execution_count": null,
   "id": "textile-links",
   "metadata": {},
   "outputs": [],
   "source": []
  }
 ],
 "metadata": {
  "kernelspec": {
   "display_name": "Python 3",
   "language": "python",
   "name": "python3"
  },
  "language_info": {
   "codemirror_mode": {
    "name": "ipython",
    "version": 3
   },
   "file_extension": ".py",
   "mimetype": "text/x-python",
   "name": "python",
   "nbconvert_exporter": "python",
   "pygments_lexer": "ipython3",
   "version": "3.7.10"
  }
 },
 "nbformat": 4,
 "nbformat_minor": 5
}
